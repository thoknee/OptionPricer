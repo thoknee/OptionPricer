{
 "cells": [
  {
   "cell_type": "code",
   "execution_count": 1,
   "id": "5a393f05",
   "metadata": {},
   "outputs": [],
   "source": [
    "import numpy as np\n",
    "import pandas as pd\n",
    "from priceCalc import blackScholes, binomialTree, trinomialTree"
   ]
  },
  {
   "cell_type": "code",
   "execution_count": 13,
   "id": "6a7c57d7",
   "metadata": {},
   "outputs": [
    {
     "ename": "AttributeError",
     "evalue": "'blackScholes' object has no attribute 'heatmap'",
     "output_type": "error",
     "traceback": [
      "\u001b[0;31m---------------------------------------------------------------------------\u001b[0m",
      "\u001b[0;31mAttributeError\u001b[0m                            Traceback (most recent call last)",
      "\u001b[0;32m/var/folders/mj/kb1qg2zn7d9ghdtz0qgm4hzh0000gn/T/ipykernel_77052/753155054.py\u001b[0m in \u001b[0;36m<module>\u001b[0;34m\u001b[0m\n\u001b[1;32m      9\u001b[0m \u001b[0mg\u001b[0m\u001b[0;34m.\u001b[0m\u001b[0mpricing\u001b[0m\u001b[0;34m(\u001b[0m\u001b[0;34m)\u001b[0m\u001b[0;34m\u001b[0m\u001b[0;34m\u001b[0m\u001b[0m\n\u001b[1;32m     10\u001b[0m \u001b[0;34m\u001b[0m\u001b[0m\n\u001b[0;32m---> 11\u001b[0;31m \u001b[0mg\u001b[0m\u001b[0;34m.\u001b[0m\u001b[0mheatmap\u001b[0m\u001b[0;34m\u001b[0m\u001b[0;34m\u001b[0m\u001b[0m\n\u001b[0m",
      "\u001b[0;31mAttributeError\u001b[0m: 'blackScholes' object has no attribute 'heatmap'"
     ]
    }
   ],
   "source": [
    "S = 120     # Current stock price\n",
    "K = 100      # Strike price\n",
    "T = 1        # Time to maturity (1 year)\n",
    "r = 0.05     # Risk-free rate\n",
    "sigma = 0.2  # Volatility\n",
    "\n",
    "g = blackScholes(T, K, S,r,sigma)\n",
    "\n",
    "g.pricing()\n",
    "spot_range = np.linspace(80, 120, 10)\n",
    "vol_range = np.linspace(0.1, 0.3, 10)\n",
    "\n",
    "g.heatmap\n"
   ]
  },
  {
   "cell_type": "code",
   "execution_count": 3,
   "id": "93f536f8",
   "metadata": {},
   "outputs": [],
   "source": [
    "# Binomial Tree\n",
    "\n",
    "N = 1000  # Time steps\n",
    "\n",
    "\n",
    "dt = T / N # Change in time\n",
    "u = np.exp(sigma * np.sqrt(dt)) # upwards change\n",
    "d = 1 / u # downwards change\n",
    "p = (np.exp(r * dt) - d) / (u - d) # risk neutral probability\n",
    "\n",
    "\n",
    "\n",
    "stock_tree = np.zeros((N+1,N+1))\n",
    "\n",
    "for i in range(N+1):\n",
    "    for j in range(i+1):\n",
    "        stock_tree[j, i] = S * (u**(i-j)) * (d**j)\n",
    "        \n",
    "        \n",
    "option_tree = np.zeros((N+1, N+1))\n",
    "for j in range(N+1):\n",
    "    option_tree[j, N] = max(0, stock_tree[j, N] - K)\n",
    "    \n",
    "    \n",
    "for i in range(N-1, -1, -1):\n",
    "    for j in range(i+1):\n",
    "        option_tree[j, i] = np.exp(-r * dt) * (\n",
    "            p * option_tree[j, i+1] + (1 - p) * option_tree[j+1, i+1]\n",
    "        )"
   ]
  },
  {
   "cell_type": "code",
   "execution_count": 4,
   "id": "2c26e83c",
   "metadata": {},
   "outputs": [
    {
     "name": "stdout",
     "output_type": "stream",
     "text": [
      "European Call Option Price: 26.169844810398164\n"
     ]
    }
   ],
   "source": [
    "\n",
    "print(\"European Call Option Price:\", option_tree[0, 0])"
   ]
  },
  {
   "cell_type": "code",
   "execution_count": 11,
   "id": "46a34a70",
   "metadata": {},
   "outputs": [
    {
     "name": "stdout",
     "output_type": "stream",
     "text": [
      "0.6540176663361532\n"
     ]
    },
    {
     "ename": "AttributeError",
     "evalue": "'trinomialTree' object has no attribute 'heatmap'",
     "output_type": "error",
     "traceback": [
      "\u001b[0;31m---------------------------------------------------------------------------\u001b[0m",
      "\u001b[0;31mAttributeError\u001b[0m                            Traceback (most recent call last)",
      "\u001b[0;32m/var/folders/mj/kb1qg2zn7d9ghdtz0qgm4hzh0000gn/T/ipykernel_77052/2484033863.py\u001b[0m in \u001b[0;36m<module>\u001b[0;34m\u001b[0m\n\u001b[1;32m      8\u001b[0m \u001b[0mprint\u001b[0m\u001b[0;34m(\u001b[0m\u001b[0mput_price\u001b[0m\u001b[0;34m)\u001b[0m\u001b[0;34m\u001b[0m\u001b[0;34m\u001b[0m\u001b[0m\n\u001b[1;32m      9\u001b[0m \u001b[0;34m\u001b[0m\u001b[0m\n\u001b[0;32m---> 10\u001b[0;31m \u001b[0mput_model\u001b[0m\u001b[0;34m.\u001b[0m\u001b[0mheatmap\u001b[0m\u001b[0;34m(\u001b[0m\u001b[0;34m)\u001b[0m\u001b[0;34m\u001b[0m\u001b[0;34m\u001b[0m\u001b[0m\n\u001b[0m",
      "\u001b[0;31mAttributeError\u001b[0m: 'trinomialTree' object has no attribute 'heatmap'"
     ]
    }
   ],
   "source": [
    "# call_model = binomialTree(T=1, K=90, S=100, r=0.05, sigma=0.2, steps=100, option_type=\"call\")\n",
    "# call_price = call_model.pricing()\n",
    "# print(call_price)\n",
    "\n",
    "\n",
    "put_model = trinomialTree(T=1, K=110, S=100, r=0.05, sigma=0.2, steps=100, option_type=\"put\")\n",
    "put_price = put_model.pricing()\n",
    "print(put_price)\n",
    "\n",
    "put_model.heatmap()"
   ]
  },
  {
   "cell_type": "code",
   "execution_count": 6,
   "id": "405fb8bf",
   "metadata": {},
   "outputs": [
    {
     "name": "stdout",
     "output_type": "stream",
     "text": [
      "Call Price: 0.07488051278545066\n"
     ]
    }
   ],
   "source": [
    "tree = trinomialTree(T=1, K=100, S=100, r=0.05, sigma=0.2, steps=50, option_type=\"call\")\n",
    "print(\"Call Price:\", tree.pricing())"
   ]
  },
  {
   "cell_type": "code",
   "execution_count": null,
   "id": "8ed88474",
   "metadata": {},
   "outputs": [],
   "source": []
  }
 ],
 "metadata": {
  "kernelspec": {
   "display_name": "Python 3 (ipykernel)",
   "language": "python",
   "name": "python3"
  },
  "language_info": {
   "codemirror_mode": {
    "name": "ipython",
    "version": 3
   },
   "file_extension": ".py",
   "mimetype": "text/x-python",
   "name": "python",
   "nbconvert_exporter": "python",
   "pygments_lexer": "ipython3",
   "version": "3.9.13"
  }
 },
 "nbformat": 4,
 "nbformat_minor": 5
}
